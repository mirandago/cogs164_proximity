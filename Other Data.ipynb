{
 "cells": [
  {
   "cell_type": "code",
   "execution_count": 1,
   "metadata": {
    "collapsed": true
   },
   "outputs": [],
   "source": [
    "import pandas as pd\n",
    "import numpy as np\n",
    "import matplotlib.pyplot as plt"
   ]
  },
  {
   "cell_type": "code",
   "execution_count": 2,
   "metadata": {
    "collapsed": true
   },
   "outputs": [],
   "source": [
    "df = pd.read_csv(\"Questionnaire_Responses.csv\")"
   ]
  },
  {
   "cell_type": "code",
   "execution_count": 3,
   "metadata": {
    "collapsed": true
   },
   "outputs": [],
   "source": [
    "df.columns\n",
    "rename_columns = [\"time_submitted\", \"location\", \"major\", \"curr_activity_level\", \"past_activity_level\",\n",
    "              \"exercise_importance\", \"prior_athlete\", \"sport_history\", \"exercise_locations\",\n",
    "              \"off_campus_gym_freq\", \"avg_commute_mwf_off_campus\", \"avg_commute_tth_off_campus\",\n",
    "              \"avg_commute_ss_off_campus\", \"commute_challenges_mwf_off_campus\",\n",
    "              \"commute_challenges_tth_off_campus\", \"commute_challenges_ss_off_campus\",\n",
    "              \"transportation_mwf_off_campus\", \"transportation_tth_off_campus\", \"transportation_ss_off_campus\",\n",
    "              \"on_campus_gym_freq\",\"avg_commute_mwf_on_campus\", \"avg_commute_tth_on_campus\",\n",
    "              \"avg_commute_ss_on_campus\", \"commute_challenges_mwf_on_campus\",\n",
    "              \"commute_challenges_tth_on_campus\", \"commute_challenges_ss_on_campus\",\n",
    "              \"transportation_mwf_on_campus\", \"transportation_tth_on_campus\", \"transportation_ss_on_campus\",\n",
    "              \"mwf_passing_gym\", \"tth_passing_gym\", \"ss_passing_gym\", \"main_gym_location\",\"gen_gym_locations\",\n",
    "              \"proximity_importance\", \"equipment_importance\", \"time_importance\", \"class_importance\",\n",
    "              \"friends_importance\", \"student_athlete_importance\", \"other_importance\", \"main_motivator\",\n",
    "              \"attend_gym_times\", \"email\"]\n",
    "df.columns = rename_columns"
   ]
  },
  {
   "cell_type": "markdown",
   "metadata": {},
   "source": [
    "Pie Chart of main motivators"
   ]
  },
  {
   "cell_type": "code",
   "execution_count": null,
   "metadata": {
    "collapsed": true
   },
   "outputs": [],
   "source": []
  },
  {
   "cell_type": "markdown",
   "metadata": {},
   "source": [
    "Exercise Locations vs Locations"
   ]
  },
  {
   "cell_type": "code",
   "execution_count": null,
   "metadata": {
    "collapsed": true
   },
   "outputs": [],
   "source": []
  },
  {
   "cell_type": "markdown",
   "metadata": {},
   "source": [
    "Importance with curr/past level of activity & prior athlete stuff"
   ]
  },
  {
   "cell_type": "code",
   "execution_count": null,
   "metadata": {
    "collapsed": true
   },
   "outputs": [],
   "source": []
  }
 ],
 "metadata": {
  "kernelspec": {
   "display_name": "Python 3",
   "language": "python",
   "name": "python3"
  },
  "language_info": {
   "codemirror_mode": {
    "name": "ipython",
    "version": 3
   },
   "file_extension": ".py",
   "mimetype": "text/x-python",
   "name": "python",
   "nbconvert_exporter": "python",
   "pygments_lexer": "ipython3",
   "version": "3.6.8"
  }
 },
 "nbformat": 4,
 "nbformat_minor": 2
}
