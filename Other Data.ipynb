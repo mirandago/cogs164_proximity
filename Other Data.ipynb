{
 "cells": [
  {
   "cell_type": "code",
   "execution_count": 52,
   "metadata": {
    "collapsed": true
   },
   "outputs": [],
   "source": [
    "import pandas as pd\n",
    "import numpy as np\n",
    "import matplotlib.pyplot as plt"
   ]
  },
  {
   "cell_type": "code",
   "execution_count": 53,
   "metadata": {
    "collapsed": true
   },
   "outputs": [],
   "source": [
    "df = pd.read_csv(\"Questionnaire_Responses.csv\")"
   ]
  },
  {
   "cell_type": "code",
   "execution_count": 54,
   "metadata": {
    "collapsed": true
   },
   "outputs": [],
   "source": [
    "df.columns\n",
    "rename_columns = [\"time_submitted\", \"location\", \"major\", \"curr_activity_level\", \"past_activity_level\",\n",
    "              \"exercise_importance\", \"prior_athlete\", \"sport_history\", \"exercise_locations\",\n",
    "              \"off_campus_gym_freq\", \"avg_commute_mwf_off_campus\", \"avg_commute_tth_off_campus\",\n",
    "              \"avg_commute_ss_off_campus\", \"commute_challenges_mwf_off_campus\",\n",
    "              \"commute_challenges_tth_off_campus\", \"commute_challenges_ss_off_campus\",\n",
    "              \"transportation_mwf_off_campus\", \"transportation_tth_off_campus\", \"transportation_ss_off_campus\",\n",
    "              \"on_campus_gym_freq\",\"avg_commute_mwf_on_campus\", \"avg_commute_tth_on_campus\",\n",
    "              \"avg_commute_ss_on_campus\", \"commute_challenges_mwf_on_campus\",\n",
    "              \"commute_challenges_tth_on_campus\", \"commute_challenges_ss_on_campus\",\n",
    "              \"transportation_mwf_on_campus\", \"transportation_tth_on_campus\", \"transportation_ss_on_campus\",\n",
    "              \"mwf_passing_gym\", \"tth_passing_gym\", \"ss_passing_gym\", \"main_gym_location\",\"gen_gym_locations\",\n",
    "              \"proximity_importance\", \"equipment_importance\", \"time_importance\", \"class_importance\",\n",
    "              \"friends_importance\", \"student_athlete_importance\", \"other_importance\", \"main_motivator\",\n",
    "              \"attend_gym_times\", \"email\"]\n",
    "df.columns = rename_columns\n",
    "df_off = df\n",
    "df_on = df"
   ]
  },
  {
   "cell_type": "markdown",
   "metadata": {},
   "source": [
    "Pie Chart of main motivators"
   ]
  },
  {
   "cell_type": "code",
   "execution_count": 55,
   "metadata": {
    "collapsed": true
   },
   "outputs": [],
   "source": [
    "'''\n",
    "Categorizes majors into:\n",
    "    - EMOTION: feeling good/better, relieving stress\n",
    "    - IMPROVEMENT: gaining muscle, improving body, weight loss, body image\n",
    "    - MAINTAIN: maintaining body\n",
    "    - ATHLETE: athletic things\n",
    "    - CONVENIENCE: extra time/proximity\n",
    "    - SOCIAL: friends, open gym\n",
    "    - CLASS: rec class\n",
    "    - OTH: random response/irrelevant or did not respond.\n",
    "'''\n",
    "\n",
    "def categorize_motivators (title):\n",
    "    title = str(title).lower()\n",
    "    title = title.strip()\n",
    "    \n",
    "    emotions = ['stress relief', 'feel good','emotion', 'stress', 'mood']\n",
    "    improvement = ['gain', 'building muscle', 'get strong', 'get in shape', 'buff', 'out of shape',\n",
    "                    'getting stronger','better legs', 'look good', 'losing weight', 'loss','improve',\n",
    "                    'appearance','look gud','body', 'bodybuilding', 'abs', 'rehab', 'better', 'booty']\n",
    "    maintain = ['maintain', 'staying', 'fit', 'take care of my body', 'to be active', 'health',\n",
    "                'keeping', 'habit', 'routine']\n",
    "    athlete = ['v o l l e y b a l l', 'athlete','sport', 'practice', 'gymnastics']\n",
    "    convenience = ['convenience', 'extra time', 'hobby']\n",
    "    social = ['friends','social']\n",
    "    rec_class = ['class']\n",
    "    \n",
    "    output = \"OTH\"\n",
    "    \n",
    "    for label in emotions:\n",
    "        if label in title:\n",
    "            output = \"EMOTION\"\n",
    "\n",
    "    for label in improvement:\n",
    "        if label in title:\n",
    "            output = \"IMPROVEMENT\"\n",
    "        \n",
    "    for label in maintain:\n",
    "        if label in title:\n",
    "            output = \"MAINTAIN\"\n",
    "            \n",
    "    for label in athlete:\n",
    "        if label in title:\n",
    "            output = \"ATHLETE\"\n",
    "            \n",
    "    for label in convenience:\n",
    "        if label in title:\n",
    "            output = \"CONVENIENCE\"\n",
    "            \n",
    "    for label in social:\n",
    "        if label in title:\n",
    "            output = \"SOCIAL\"\n",
    "            \n",
    "    for label in rec_class:\n",
    "        if label in title:\n",
    "            output = \"CLASS\"            \n",
    "    \n",
    "        \n",
    "    return output"
   ]
  },
  {
   "cell_type": "code",
   "execution_count": 56,
   "metadata": {
    "collapsed": true
   },
   "outputs": [],
   "source": [
    "df['main_motivator'] = df['main_motivator'].apply(categorize_motivators)"
   ]
  },
  {
   "cell_type": "code",
   "execution_count": 57,
   "metadata": {},
   "outputs": [
    {
     "data": {
      "text/plain": [
       "MAINTAIN       37\n",
       "OTH            34\n",
       "IMPROVEMENT    31\n",
       "ATHLETE         6\n",
       "SOCIAL          4\n",
       "CLASS           3\n",
       "CONVENIENCE     3\n",
       "EMOTION         2\n",
       "Name: main_motivator, dtype: int64"
      ]
     },
     "execution_count": 57,
     "metadata": {},
     "output_type": "execute_result"
    }
   ],
   "source": [
    "df['main_motivator'].value_counts()"
   ]
  },
  {
   "cell_type": "code",
   "execution_count": 58,
   "metadata": {},
   "outputs": [
    {
     "data": {
      "image/png": "[encoded data removed]",
      "text/plain": [
       "<matplotlib.figure.Figure at 0x121a64128>"
      ]
     },
     "metadata": {},
     "output_type": "display_data"
    }
   ],
   "source": [
    "# Pie chart, where the slices will be ordered and plotted counter-clockwise: \n",
    "fig1, ax1 = plt.subplots()\n",
    "ax1.pie(df['main_motivator'].value_counts(), autopct='%1.1f%%',\n",
    "        startangle=90)\n",
    "ax1.axis('equal')  # Equal aspect ratio ensures that pie is drawn as a circle.\n",
    "plt.show()"
   ]
  },
  {
   "cell_type": "markdown",
   "metadata": {},
   "source": [
    "Exercise Locations vs Locations"
   ]
  },
  {
   "cell_type": "code",
   "execution_count": 59,
   "metadata": {},
   "outputs": [],
   "source": [
    "#off campus people\n",
    "df_off = df_off.loc[df_off['location'].isin([\"I don't live on campus\", \"IG\"])]"
   ]
  },
  {
   "cell_type": "code",
   "execution_count": 60,
   "metadata": {},
   "outputs": [
    {
     "data": {
      "text/plain": [
       "At an on campus gym (Main Gym, RIMAC, Spanos, Keeling, Canyon View), Off Campus                                             10\n",
       "Off Campus                                                                                                                   8\n",
       "At an on campus gym (Main Gym, RIMAC, Spanos, Keeling, Canyon View)                                                          7\n",
       "At an on campus gym (Main Gym, RIMAC, Spanos, Keeling, Canyon View), Sports (IM, Club, Division)                             6\n",
       "At an on campus gym (Main Gym, RIMAC, Spanos, Keeling, Canyon View), Off Campus, Sports (IM, Club, Division)                 4\n",
       "Off Campus, Sports (IM, Club, Division)                                                                                      3\n",
       "At an on campus gym (Main Gym, RIMAC, Spanos, Keeling, Canyon View), Outside (on campus), Off Campus                         2\n",
       "Inside the Residential Halls/Apartments, Off Campus                                                                          1\n",
       "At an on campus gym (Main Gym, RIMAC, Spanos, Keeling, Canyon View), Inside the Residential Halls/Apartments, Off Campus     1\n",
       "Name: exercise_locations, dtype: int64"
      ]
     },
     "execution_count": 60,
     "metadata": {},
     "output_type": "execute_result"
    }
   ],
   "source": [
    "df_off['exercise_locations'].value_counts()"
   ]
  },
  {
   "cell_type": "code",
   "execution_count": 61,
   "metadata": {},
   "outputs": [
    {
     "data": {
      "text/plain": [
       "[30, 29, 13, 2, 2]"
      ]
     },
     "execution_count": 61,
     "metadata": {},
     "output_type": "execute_result"
    }
   ],
   "source": [
    "'''\n",
    "Indexed by:\n",
    "0: \"At an on campus gym (Main Gym, RIMAC, Spanos, Keeling, Canyon View)\"\n",
    "1: \"Off Campus\"\n",
    "2: \"Sports (IM, Club, Division)\"\n",
    "3: \"Outside (on campus)\"\n",
    "4: \"Inside the Residential Halls/Apartments\"\n",
    "'''\n",
    "off_campus_count = [0,0,0,0,0]\n",
    "def categorize_exercise_locations_off (title):\n",
    "    title = str(title).lower()\n",
    "    title = title.strip()\n",
    "    \n",
    "    if \"at an on campus gym\" in title:\n",
    "        off_campus_count[0] += 1\n",
    "    if \"off campus\" in title:\n",
    "        off_campus_count[1] += 1\n",
    "    if \"sports\" in title:\n",
    "        off_campus_count[2] += 1\n",
    "    if \"outside\" in title:\n",
    "        off_campus_count[3] += 1\n",
    "    if \"inside the res\" in title:\n",
    "        off_campus_count[4] += 1\n",
    "\n",
    "df_off['exercise_locations'].apply(categorize_exercise_locations_off)\n",
    "off_campus_count"
   ]
  },
  {
   "cell_type": "code",
   "execution_count": 62,
   "metadata": {
    "collapsed": true,
    "scrolled": false
   },
   "outputs": [],
   "source": [
    "#on campus people\n",
    "df_on = df_on.loc[df_on['location'].isin(['Warren', 'Revelle', 'Muir', 'Marshall', 'Sixth', 'ERC', 'The Village'])]\n"
   ]
  },
  {
   "cell_type": "code",
   "execution_count": 63,
   "metadata": {},
   "outputs": [
    {
     "data": {
      "text/plain": [
       "[66, 15, 15, 12, 16]"
      ]
     },
     "execution_count": 63,
     "metadata": {},
     "output_type": "execute_result"
    }
   ],
   "source": [
    "on_campus_count = [0,0,0,0,0]\n",
    "def categorize_exercise_locations_on (title):\n",
    "    title = str(title).lower()\n",
    "    title = title.strip()\n",
    "    \n",
    "    if \"at an on campus gym\" in title:\n",
    "        on_campus_count[0] += 1\n",
    "    if \"off campus\" in title:\n",
    "        on_campus_count[1] += 1\n",
    "    if \"sports\" in title:\n",
    "        on_campus_count[2] += 1\n",
    "    if \"outside\" in title:\n",
    "        on_campus_count[3] += 1\n",
    "    if \"inside the res\" in title:\n",
    "        on_campus_count[4] += 1\n",
    "     \n",
    "df_on['exercise_locations'].apply(categorize_exercise_locations_on)\n",
    "on_campus_count"
   ]
  },
  {
   "cell_type": "code",
   "execution_count": 64,
   "metadata": {},
   "outputs": [
    {
     "data": {
      "image/png": "[encoded data removed]",
      "text/plain": [
       "<matplotlib.figure.Figure at 0x1159f82e8>"
      ]
     },
     "metadata": {},
     "output_type": "display_data"
    }
   ],
   "source": [
    "on_campus_gym = [off_campus_count[0], on_campus_count[0]]\n",
    "off_campus = [off_campus_count[1], on_campus_count[1]]\n",
    "sports = [off_campus_count[2], on_campus_count[2]]\n",
    "outside = [off_campus_count[3], on_campus_count[3]]\n",
    "inside_res = [off_campus_count[4], on_campus_count[4]]\n",
    "\n",
    "#plot comparing on and off campus\n",
    "bar_graph = pd.DataFrame({'on campus gym': on_campus_gym, 'off campus': off_campus, 'sports': sports, \n",
    "                         'outside': outside, 'inside res halls or apartments': inside_res}, index = ['off campus','on campus']).transpose()\n",
    "\n",
    "ax = bar_graph.plot.bar(rot=0,figsize=(20,10))\n",
    "ax.set_xlabel(\"Exercise Locations\", size = 15)\n",
    "ax.set_ylabel(\"Number of Participants\", size = 15)\n",
    "ax.set_title(\"Exercise Locations based on Living Location\", size = 15)\n",
    "plt.show()"
   ]
  },
  {
   "cell_type": "markdown",
   "metadata": {},
   "source": [
    "Importance with curr/past level of activity & prior athlete stuff"
   ]
  },
  {
   "cell_type": "code",
   "execution_count": 65,
   "metadata": {},
   "outputs": [
    {
     "data": {
      "text/plain": [
       "Maintenance - regularly exercising for 6 months or more                                                            26\n",
       "Preparation - doing exercise but not regularly                                                                     25\n",
       "Priority - intensive exercise multiple times a week for 6 months or more to make a physical change in your body    24\n",
       "Action - regularly exercise but for less than 6 months                                                             20\n",
       "Contemplation - currently not doing exercise, but intending to start within the next six months                    19\n",
       "Precontemplation - currently not doing exercise and not intending to start within the next six months               6\n",
       "Name: curr_activity_level, dtype: int64"
      ]
     },
     "execution_count": 65,
     "metadata": {},
     "output_type": "execute_result"
    }
   ],
   "source": [
    "#curr level of activity with importance\n",
    "df['curr_activity_level'].value_counts()"
   ]
  },
  {
   "cell_type": "code",
   "execution_count": 66,
   "metadata": {},
   "outputs": [
    {
     "ename": "NameError",
     "evalue": "name 'index' is not defined",
     "output_type": "error",
     "traceback": [
      "\u001b[0;31m---------------------------------------------------------------------------\u001b[0m",
      "\u001b[0;31mNameError\u001b[0m                                 Traceback (most recent call last)",
      "\u001b[0;32m<ipython-input-66-82e2a272cbe7>\u001b[0m in \u001b[0;36m<module>\u001b[0;34m()\u001b[0m\n\u001b[1;32m      3\u001b[0m \u001b[0mplt\u001b[0m\u001b[0;34m.\u001b[0m\u001b[0mxlabel\u001b[0m\u001b[0;34m(\u001b[0m\u001b[0;34m'Genre'\u001b[0m\u001b[0;34m,\u001b[0m \u001b[0mfontsize\u001b[0m\u001b[0;34m=\u001b[0m\u001b[0;36m5\u001b[0m\u001b[0;34m)\u001b[0m\u001b[0;34m\u001b[0m\u001b[0;34m\u001b[0m\u001b[0m\n\u001b[1;32m      4\u001b[0m \u001b[0mplt\u001b[0m\u001b[0;34m.\u001b[0m\u001b[0mylabel\u001b[0m\u001b[0;34m(\u001b[0m\u001b[0;34m'No of Movies'\u001b[0m\u001b[0;34m,\u001b[0m \u001b[0mfontsize\u001b[0m\u001b[0;34m=\u001b[0m\u001b[0;36m5\u001b[0m\u001b[0;34m)\u001b[0m\u001b[0;34m\u001b[0m\u001b[0;34m\u001b[0m\u001b[0m\n\u001b[0;32m----> 5\u001b[0;31m \u001b[0mplt\u001b[0m\u001b[0;34m.\u001b[0m\u001b[0mxticks\u001b[0m\u001b[0;34m(\u001b[0m\u001b[0mindex\u001b[0m\u001b[0;34m,\u001b[0m \u001b[0mlabel\u001b[0m\u001b[0;34m,\u001b[0m \u001b[0mfontsize\u001b[0m\u001b[0;34m=\u001b[0m\u001b[0;36m5\u001b[0m\u001b[0;34m,\u001b[0m \u001b[0mrotation\u001b[0m\u001b[0;34m=\u001b[0m\u001b[0;36m30\u001b[0m\u001b[0;34m)\u001b[0m\u001b[0;34m\u001b[0m\u001b[0;34m\u001b[0m\u001b[0m\n\u001b[0m\u001b[1;32m      6\u001b[0m \u001b[0mplt\u001b[0m\u001b[0;34m.\u001b[0m\u001b[0mtitle\u001b[0m\u001b[0;34m(\u001b[0m\u001b[0;34m'Market Share for Each Genre 1995-2017'\u001b[0m\u001b[0;34m)\u001b[0m\u001b[0;34m\u001b[0m\u001b[0;34m\u001b[0m\u001b[0m\n\u001b[1;32m      7\u001b[0m \u001b[0mplt\u001b[0m\u001b[0;34m.\u001b[0m\u001b[0mshow\u001b[0m\u001b[0;34m(\u001b[0m\u001b[0;34m)\u001b[0m\u001b[0;34m\u001b[0m\u001b[0;34m\u001b[0m\u001b[0m\n",
      "\u001b[0;31mNameError\u001b[0m: name 'index' is not defined"
     ]
    }
   ],
   "source": [
    "#bar graph\n",
    "#plt.bar(index, no_movies)\n",
    "plt.xlabel('Genre', fontsize=5)\n",
    "plt.ylabel('No of Movies', fontsize=5)\n",
    "plt.xticks(index, label, fontsize=5, rotation=30)\n",
    "plt.title('Market Share for Each Genre 1995-2017')\n",
    "plt.show()"
   ]
  },
  {
   "cell_type": "code",
   "execution_count": 67,
   "metadata": {},
   "outputs": [
    {
     "data": {
      "text/plain": [
       "Maintenance - regularly exercising for 6 months or more before starting at UCSD                                    44\n",
       "Preparation - exercised infrequently                                                                               25\n",
       "Priority - intensive exercise multiple times a week for 6 months or more to make a physical change in your body    19\n",
       "Contemplation - did not exercise but intended to start in college                                                  12\n",
       "Action - regularly exercised but for less than 6 months before starting at UCSD                                    10\n",
       "Precontemplation - did not exercise at all                                                                         10\n",
       "Name: past_activity_level, dtype: int64"
      ]
     },
     "execution_count": 67,
     "metadata": {},
     "output_type": "execute_result"
    }
   ],
   "source": [
    "#past level of activity with importance\n",
    "df['past_activity_level'].value_counts()"
   ]
  },
  {
   "cell_type": "code",
   "execution_count": 68,
   "metadata": {},
   "outputs": [
    {
     "data": {
      "text/plain": [
       "0       4\n",
       "1       6\n",
       "2       7\n",
       "3       8\n",
       "4       8\n",
       "5       8\n",
       "6       5\n",
       "7       8\n",
       "8       7\n",
       "9       7\n",
       "10      9\n",
       "11      3\n",
       "12      8\n",
       "13      8\n",
       "14      8\n",
       "15      1\n",
       "16     10\n",
       "17      9\n",
       "18     10\n",
       "19     10\n",
       "20      8\n",
       "21      9\n",
       "22      7\n",
       "23      9\n",
       "24      5\n",
       "25      7\n",
       "26      5\n",
       "27      6\n",
       "28      8\n",
       "29      9\n",
       "       ..\n",
       "90     10\n",
       "91     10\n",
       "92      6\n",
       "93      6\n",
       "94      4\n",
       "95     10\n",
       "96      4\n",
       "97      3\n",
       "98      7\n",
       "99     10\n",
       "100     4\n",
       "101     8\n",
       "102     8\n",
       "103     7\n",
       "104     8\n",
       "105     4\n",
       "106     9\n",
       "107     9\n",
       "108     4\n",
       "109     6\n",
       "110     8\n",
       "111     4\n",
       "112     8\n",
       "113     4\n",
       "114     7\n",
       "115     8\n",
       "116     8\n",
       "117    10\n",
       "118     9\n",
       "119     7\n",
       "Name: exercise_importance, Length: 120, dtype: int64"
      ]
     },
     "execution_count": 68,
     "metadata": {},
     "output_type": "execute_result"
    }
   ],
   "source": [
    "df['exercise_importance']"
   ]
  },
  {
   "cell_type": "code",
   "execution_count": 269,
   "metadata": {},
   "outputs": [
    {
     "name": "stderr",
     "output_type": "stream",
     "text": [
      "/Users/mirandago/anaconda3/lib/python3.6/site-packages/ipykernel_launcher.py:5: SettingWithCopyWarning: \n",
      "A value is trying to be set on a copy of a slice from a DataFrame\n",
      "\n",
      "See the caveats in the documentation: http://pandas.pydata.org/pandas-docs/stable/indexing.html#indexing-view-versus-copy\n",
      "  \"\"\"\n",
      "/Users/mirandago/anaconda3/lib/python3.6/site-packages/ipykernel_launcher.py:7: SettingWithCopyWarning: \n",
      "A value is trying to be set on a copy of a slice from a DataFrame\n",
      "\n",
      "See the caveats in the documentation: http://pandas.pydata.org/pandas-docs/stable/indexing.html#indexing-view-versus-copy\n",
      "  import sys\n",
      "/Users/mirandago/anaconda3/lib/python3.6/site-packages/ipykernel_launcher.py:13: SettingWithCopyWarning: \n",
      "A value is trying to be set on a copy of a slice from a DataFrame\n",
      "\n",
      "See the caveats in the documentation: http://pandas.pydata.org/pandas-docs/stable/indexing.html#indexing-view-versus-copy\n",
      "  del sys.path[0]\n",
      "/Users/mirandago/anaconda3/lib/python3.6/site-packages/ipykernel_launcher.py:11: SettingWithCopyWarning: \n",
      "A value is trying to be set on a copy of a slice from a DataFrame\n",
      "\n",
      "See the caveats in the documentation: http://pandas.pydata.org/pandas-docs/stable/indexing.html#indexing-view-versus-copy\n",
      "  # This is added back by InteractiveShellApp.init_path()\n",
      "/Users/mirandago/anaconda3/lib/python3.6/site-packages/ipykernel_launcher.py:3: SettingWithCopyWarning: \n",
      "A value is trying to be set on a copy of a slice from a DataFrame\n",
      "\n",
      "See the caveats in the documentation: http://pandas.pydata.org/pandas-docs/stable/indexing.html#indexing-view-versus-copy\n",
      "  This is separate from the ipykernel package so we can avoid doing imports until\n",
      "/Users/mirandago/anaconda3/lib/python3.6/site-packages/ipykernel_launcher.py:9: SettingWithCopyWarning: \n",
      "A value is trying to be set on a copy of a slice from a DataFrame\n",
      "\n",
      "See the caveats in the documentation: http://pandas.pydata.org/pandas-docs/stable/indexing.html#indexing-view-versus-copy\n",
      "  if __name__ == '__main__':\n",
      "/Users/mirandago/anaconda3/lib/python3.6/site-packages/ipykernel_launcher.py:19: SettingWithCopyWarning: \n",
      "A value is trying to be set on a copy of a slice from a DataFrame\n",
      "\n",
      "See the caveats in the documentation: http://pandas.pydata.org/pandas-docs/stable/indexing.html#indexing-view-versus-copy\n",
      "/Users/mirandago/anaconda3/lib/python3.6/site-packages/ipykernel_launcher.py:21: SettingWithCopyWarning: \n",
      "A value is trying to be set on a copy of a slice from a DataFrame\n",
      "\n",
      "See the caveats in the documentation: http://pandas.pydata.org/pandas-docs/stable/indexing.html#indexing-view-versus-copy\n",
      "/Users/mirandago/anaconda3/lib/python3.6/site-packages/ipykernel_launcher.py:25: SettingWithCopyWarning: \n",
      "A value is trying to be set on a copy of a slice from a DataFrame\n",
      "\n",
      "See the caveats in the documentation: http://pandas.pydata.org/pandas-docs/stable/indexing.html#indexing-view-versus-copy\n",
      "/Users/mirandago/anaconda3/lib/python3.6/site-packages/ipykernel_launcher.py:23: SettingWithCopyWarning: \n",
      "A value is trying to be set on a copy of a slice from a DataFrame\n",
      "\n",
      "See the caveats in the documentation: http://pandas.pydata.org/pandas-docs/stable/indexing.html#indexing-view-versus-copy\n",
      "/Users/mirandago/anaconda3/lib/python3.6/site-packages/ipykernel_launcher.py:17: SettingWithCopyWarning: \n",
      "A value is trying to be set on a copy of a slice from a DataFrame\n",
      "\n",
      "See the caveats in the documentation: http://pandas.pydata.org/pandas-docs/stable/indexing.html#indexing-view-versus-copy\n",
      "/Users/mirandago/anaconda3/lib/python3.6/site-packages/ipykernel_launcher.py:27: SettingWithCopyWarning: \n",
      "A value is trying to be set on a copy of a slice from a DataFrame\n",
      "\n",
      "See the caveats in the documentation: http://pandas.pydata.org/pandas-docs/stable/indexing.html#indexing-view-versus-copy\n"
     ]
    }
   ],
   "source": [
    "for i in range(0, len(df['curr_activity_level'])):\n",
    "    if \"Precontemplation\" in df['curr_activity_level'][i]:\n",
    "        df['curr_activity_level'][i] = 0\n",
    "    elif \"Contemplation\" in df['curr_activity_level'][i]:\n",
    "        df['curr_activity_level'][i] = 1\n",
    "    elif \"Preparation\" in df['curr_activity_level'][i]:\n",
    "        df['curr_activity_level'][i] = 2\n",
    "    elif \"Action\" in df['curr_activity_level'][i]:\n",
    "        df['curr_activity_level'][i] = 3\n",
    "    elif \"Maintenance\" in df['curr_activity_level'][i]:\n",
    "        df['curr_activity_level'][i] = 4\n",
    "    elif \"Priority\" in df['curr_activity_level'][i]:\n",
    "        df['curr_activity_level'][i] = 5\n",
    "\n",
    "for i in range(0, len(df['past_activity_level'])):\n",
    "    if \"Precontemplation\" in df['past_activity_level'][i]:\n",
    "        df['past_activity_level'][i] = 0\n",
    "    elif \"Contemplation\" in df['past_activity_level'][i]:\n",
    "        df['past_activity_level'][i] = 1\n",
    "    elif \"Preparation\" in df['past_activity_level'][i]:\n",
    "        df['past_activity_level'][i] = 2\n",
    "    elif \"Action\" in df['past_activity_level'][i]:\n",
    "        df['past_activity_level'][i] = 3\n",
    "    elif \"Maintenance\" in df['past_activity_level'][i]:\n",
    "        df['past_activity_level'][i] = 4\n",
    "    elif \"Priority\" in df['past_activity_level'][i]:\n",
    "        df['past_activity_level'][i] = 5\n",
    "\n",
    "current = [\"precontemplation\", \"contemplation\", \"preparation\", \"action\", \"maintenance\", \"priority\"]\n",
    "past = [\"precontemplation\", \"contemplation\", \"preparation\", \"action\", \"maintenance\", \"priority\"]"
   ]
  },
  {
   "cell_type": "code",
   "execution_count": 270,
   "metadata": {
    "collapsed": true
   },
   "outputs": [],
   "source": [
    "count_arr = [[0, 0, 0, 0, 0, 0],\n",
    "             [0, 0, 0, 0, 0, 0],\n",
    "             [0, 0, 0, 0, 0, 0],\n",
    "             [0, 0, 0, 0, 0, 0],\n",
    "             [0, 0, 0, 0, 0, 0],\n",
    "             [0, 0, 0, 0, 0, 0]]\n",
    "importance_arr = [[0, 0, 0, 0, 0, 0],\n",
    "             [0, 0, 0, 0, 0, 0],\n",
    "             [0, 0, 0, 0, 0, 0],\n",
    "             [0, 0, 0, 0, 0, 0],\n",
    "             [0, 0, 0, 0, 0, 0],\n",
    "             [0, 0, 0, 0, 0, 0]]\n",
    "\n",
    "individuals = zip(df['curr_activity_level'], df['past_activity_level'], df['exercise_importance'])\n",
    "for i in individuals:\n",
    "    #print(i[0])\n",
    "    #print(importance_arr[i[0]][i[1]])\n",
    "    importance_arr[i[0]][i[1]] += i[2]\n",
    "    count_arr[i[0]][i[1]] += 1\n"
   ]
  },
  {
   "cell_type": "code",
   "execution_count": 271,
   "metadata": {},
   "outputs": [
    {
     "data": {
      "text/plain": [
       "[[10, 5, 0, 3, 0, 0],\n",
       " [4, 13, 53, 18, 25, 0],\n",
       " [4, 26, 41, 11, 61, 15],\n",
       " [6, 15, 50, 0, 51, 30],\n",
       " [0, 7, 15, 16, 110, 60],\n",
       " [25, 9, 26, 17, 81, 56]]"
      ]
     },
     "execution_count": 271,
     "metadata": {},
     "output_type": "execute_result"
    }
   ],
   "source": [
    "importance_arr"
   ]
  },
  {
   "cell_type": "code",
   "execution_count": 272,
   "metadata": {},
   "outputs": [
    {
     "data": {
      "text/plain": [
       "[[4, 1, 0, 1, 0, 0],\n",
       " [1, 3, 8, 3, 4, 0],\n",
       " [1, 4, 6, 2, 10, 2],\n",
       " [1, 2, 6, 0, 7, 4],\n",
       " [0, 1, 2, 2, 14, 7],\n",
       " [3, 1, 3, 2, 9, 6]]"
      ]
     },
     "execution_count": 272,
     "metadata": {},
     "output_type": "execute_result"
    }
   ],
   "source": [
    "count_arr"
   ]
  },
  {
   "cell_type": "code",
   "execution_count": 291,
   "metadata": {},
   "outputs": [
    {
     "data": {
      "text/plain": [
       "[[2.5, 5.0, 0, 3.0, 0, 0],\n",
       " [4.0, 4.33, 6.62, 6.0, 6.25, 0],\n",
       " [4.0, 6.5, 6.83, 5.5, 6.1, 7.5],\n",
       " [6.0, 7.5, 8.33, 0, 7.29, 7.5],\n",
       " [0, 7.0, 7.5, 8.0, 7.86, 8.57],\n",
       " [8.33, 9.0, 8.67, 8.5, 9.0, 9.33]]"
      ]
     },
     "execution_count": 291,
     "metadata": {},
     "output_type": "execute_result"
    }
   ],
   "source": [
    "avg_arr = [[0, 0, 0, 0, 0, 0],\n",
    "             [0, 0, 0, 0, 0, 0],\n",
    "             [0, 0, 0, 0, 0, 0],\n",
    "             [0, 0, 0, 0, 0, 0],\n",
    "             [0, 0, 0, 0, 0, 0],\n",
    "             [0, 0, 0, 0, 0, 0]]\n",
    "\n",
    "for i in range(0, len(importance_arr)):\n",
    "    for j in range(0, len(importance_arr)):\n",
    "        if (count_arr[i][j] != 0):\n",
    "            avg_arr[i][j] = float(\"%.2f\"%(importance_arr[i][j]/count_arr[i][j]))\n",
    "            \n",
    "avg_arr"
   ]
  },
  {
   "cell_type": "code",
   "execution_count": 303,
   "metadata": {},
   "outputs": [
    {
     "data": {
      "image/png": "[encoded data removed]",
      "text/plain": [
       "<matplotlib.figure.Figure at 0x112937ef0>"
      ]
     },
     "metadata": {},
     "output_type": "display_data"
    }
   ],
   "source": [
    "fig,ax = plt.subplots()\n",
    "im = ax.imshow(avg_arr)\n",
    "\n",
    "# We want to show all ticks...\n",
    "ax.set_xticks(np.arange(len(past)))\n",
    "ax.set_yticks(np.arange(len(current)))\n",
    "# ... and label them with the respective list entries\n",
    "ax.set_xticklabels(past)\n",
    "ax.set_yticklabels(current)\n",
    "\n",
    "# Rotate the tick labels and set their alignment.\n",
    "plt.setp(ax.get_xticklabels(), rotation=45, ha=\"right\",\n",
    "         rotation_mode=\"anchor\")\n",
    "\n",
    "# Loop over data dimensions and create text annotations.\n",
    "for i in range(len(current)):\n",
    "    for j in range(len(past)):\n",
    "        text = ax.text(j, i, avg_arr[i][j],\n",
    "                       ha=\"center\", va=\"center\")\n",
    "\n",
    "ax.set_title(\"Average Importance of Going to Gym With Curr vs Past Activity\")\n",
    "ax.set_xlabel('Past Level of Activity')\n",
    "ax.set_ylabel('Current Level of Activity')\n",
    "#fig.tight_layout()\n",
    "plt.show()"
   ]
  },
  {
   "cell_type": "code",
   "execution_count": null,
   "metadata": {
    "collapsed": true
   },
   "outputs": [],
   "source": []
  }
 ],
 "metadata": {
  "kernelspec": {
   "display_name": "Python 3",
   "language": "python",
   "name": "python3"
  },
  "language_info": {
   "codemirror_mode": {
    "name": "ipython",
    "version": 3
   },
   "file_extension": ".py",
   "mimetype": "text/x-python",
   "name": "python",
   "nbconvert_exporter": "python",
   "pygments_lexer": "ipython3",
   "version": "3.6.8"
  }
 },
 "nbformat": 4,
 "nbformat_minor": 2
}
